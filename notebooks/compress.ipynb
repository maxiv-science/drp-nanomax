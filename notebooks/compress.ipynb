{
 "cells": [
  {
   "cell_type": "code",
   "execution_count": 1,
   "id": "a695dcb2-8ec1-4866-8e28-17551862a7c0",
   "metadata": {},
   "outputs": [],
   "source": [
    "import h5py"
   ]
  },
  {
   "cell_type": "code",
   "execution_count": 7,
   "id": "cbc211cb-ba8e-4e56-82bb-65192f71df0c",
   "metadata": {},
   "outputs": [
    {
     "name": "stdout",
     "output_type": "stream",
     "text": [
      "['all_events', 'all_good', 'clock_ticks', 'data', 'dead_time_correction', 'event_width', 'output_count_rate', 'reset_ticks', 'total_ticks']\n"
     ]
    }
   ],
   "source": [
    "with h5py.File(\"../data/scan_000008_xspress3.hdf5\", \"r\") as fd:\n",
    "    \n",
    "    print(list(fd[\"/entry/instrument/xspress3\"].keys()))\n",
    "    data = fd[\"/entry/instrument/xspress3/data\"][:]"
   ]
  },
  {
   "cell_type": "code",
   "execution_count": 5,
   "id": "1b72c989-3161-4b13-9329-394b195d8c5e",
   "metadata": {},
   "outputs": [
    {
     "data": {
      "text/plain": [
       "(1111, 4, 4096)"
      ]
     },
     "execution_count": 5,
     "metadata": {},
     "output_type": "execute_result"
    }
   ],
   "source": [
    "data.shape"
   ]
  },
  {
   "cell_type": "code",
   "execution_count": 11,
   "id": "28881c31-6568-4eea-b5f5-1dcabae0c8d1",
   "metadata": {},
   "outputs": [],
   "source": [
    "with h5py.File(\"../data/scan_000008_xspress3.hdf5\", \"r\") as fd:\n",
    "    with h5py.File(\"test.h5\", \"w\") as f:\n",
    "        f.create_group(\"/entry/instrument/xspress3\")\n",
    "        for ds in fd[\"/entry/instrument/xspress3\"].keys():\n",
    "            if ds == \"data\":\n",
    "                data = fd[\"/entry/instrument/xspress3/data\"][:]\n",
    "                f[\"/entry/instrument/xspress3\"].create_dataset(\"data\", data=data, compression=\"gzip\")\n",
    "            else:\n",
    "                f.copy(fd[\"/entry/instrument/xspress3\"][ds], f[\"/entry/instrument/xspress3\"])"
   ]
  },
  {
   "cell_type": "code",
   "execution_count": null,
   "id": "a614e707-4a78-40b3-954a-fb60e5133556",
   "metadata": {},
   "outputs": [],
   "source": []
  }
 ],
 "metadata": {
  "kernelspec": {
   "display_name": "Python 3 (ipykernel)",
   "language": "python",
   "name": "python3"
  },
  "language_info": {
   "codemirror_mode": {
    "name": "ipython",
    "version": 3
   },
   "file_extension": ".py",
   "mimetype": "text/x-python",
   "name": "python",
   "nbconvert_exporter": "python",
   "pygments_lexer": "ipython3",
   "version": "3.11.6"
  }
 },
 "nbformat": 4,
 "nbformat_minor": 5
}
